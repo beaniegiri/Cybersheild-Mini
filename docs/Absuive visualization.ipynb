{
 "cells": [
  {
   "cell_type": "code",
   "execution_count": 1,
   "id": "88185908",
   "metadata": {},
   "outputs": [],
   "source": [
    "from pathlib import Path\n",
    "import matplotlib.pyplot as plt\n",
    "import seaborn as sns\n",
    "import pandas as pd\n",
    "import json"
   ]
  },
  {
   "cell_type": "code",
   "execution_count": null,
   "id": "f4519b58",
   "metadata": {},
   "outputs": [],
   "source": []
  },
  {
   "cell_type": "code",
   "execution_count": 2,
   "id": "d19bf30b",
   "metadata": {},
   "outputs": [],
   "source": [
    "file_path= Path('..','data','abuse_report.json')"
   ]
  },
  {
   "cell_type": "code",
   "execution_count": 3,
   "id": "ec300124",
   "metadata": {},
   "outputs": [],
   "source": [
    "with open (file_path, 'r') as file:\n",
    "    data = json.load(file)"
   ]
  },
  {
   "cell_type": "code",
   "execution_count": 4,
   "id": "fe13ae8f",
   "metadata": {},
   "outputs": [],
   "source": [
    "df=pd.DataFrame(data)"
   ]
  },
  {
   "cell_type": "code",
   "execution_count": 5,
   "id": "592e94a2",
   "metadata": {},
   "outputs": [
    {
     "data": {
      "text/html": [
       "<div>\n",
       "<style scoped>\n",
       "    .dataframe tbody tr th:only-of-type {\n",
       "        vertical-align: middle;\n",
       "    }\n",
       "\n",
       "    .dataframe tbody tr th {\n",
       "        vertical-align: top;\n",
       "    }\n",
       "\n",
       "    .dataframe thead th {\n",
       "        text-align: right;\n",
       "    }\n",
       "</style>\n",
       "<table border=\"1\" class=\"dataframe\">\n",
       "  <thead>\n",
       "    <tr style=\"text-align: right;\">\n",
       "      <th></th>\n",
       "      <th>1</th>\n",
       "      <th>2</th>\n",
       "      <th>3</th>\n",
       "      <th>4</th>\n",
       "      <th>5</th>\n",
       "      <th>6</th>\n",
       "      <th>7</th>\n",
       "      <th>8</th>\n",
       "      <th>9</th>\n",
       "      <th>10</th>\n",
       "      <th>11</th>\n",
       "      <th>12</th>\n",
       "      <th>13</th>\n",
       "      <th>14</th>\n",
       "      <th>15</th>\n",
       "      <th>16</th>\n",
       "      <th>17</th>\n",
       "      <th>18</th>\n",
       "      <th>19</th>\n",
       "      <th>20</th>\n",
       "    </tr>\n",
       "  </thead>\n",
       "  <tbody>\n",
       "    <tr>\n",
       "      <th>abusive-words_found</th>\n",
       "      <td>[]</td>\n",
       "      <td>[]</td>\n",
       "      <td>[]</td>\n",
       "      <td>[]</td>\n",
       "      <td>[]</td>\n",
       "      <td>[]</td>\n",
       "      <td>[]</td>\n",
       "      <td>[]</td>\n",
       "      <td>[]</td>\n",
       "      <td>[]</td>\n",
       "      <td>[]</td>\n",
       "      <td>[]</td>\n",
       "      <td>[]</td>\n",
       "      <td>[]</td>\n",
       "      <td>[]</td>\n",
       "      <td>[]</td>\n",
       "      <td>[]</td>\n",
       "      <td>[]</td>\n",
       "      <td>[]</td>\n",
       "      <td>[]</td>\n",
       "    </tr>\n",
       "    <tr>\n",
       "      <th>sentiment</th>\n",
       "      <td>{'sentiment': 'NEGATIVE', 'confidence': 0.985}</td>\n",
       "      <td>{'sentiment': 'NEGATIVE', 'confidence': 0.998}</td>\n",
       "      <td>{'sentiment': 'NEGATIVE', 'confidence': 0.978}</td>\n",
       "      <td>{'sentiment': 'NEGATIVE', 'confidence': 0.772}</td>\n",
       "      <td>{'sentiment': 'POSITIVE', 'confidence': 1.0}</td>\n",
       "      <td>{'sentiment': 'POSITIVE', 'confidence': 1.0}</td>\n",
       "      <td>{'sentiment': 'NEGATIVE', 'confidence': 0.971}</td>\n",
       "      <td>{'sentiment': 'NEGATIVE', 'confidence': 0.999}</td>\n",
       "      <td>{'sentiment': 'POSITIVE', 'confidence': 0.802}</td>\n",
       "      <td>{'sentiment': 'POSITIVE', 'confidence': 0.995}</td>\n",
       "      <td>{'sentiment': 'NEGATIVE', 'confidence': 0.993}</td>\n",
       "      <td>{'sentiment': 'NEGATIVE', 'confidence': 0.991}</td>\n",
       "      <td>{'sentiment': 'POSITIVE', 'confidence': 1.0}</td>\n",
       "      <td>{'sentiment': 'NEGATIVE', 'confidence': 0.995}</td>\n",
       "      <td>{'sentiment': 'NEGATIVE', 'confidence': 0.997}</td>\n",
       "      <td>{'sentiment': 'NEGATIVE', 'confidence': 0.992}</td>\n",
       "      <td>{'sentiment': 'NEGATIVE', 'confidence': 0.976}</td>\n",
       "      <td>{'sentiment': 'NEGATIVE', 'confidence': 0.997}</td>\n",
       "      <td>{'sentiment': 'NEGATIVE', 'confidence': 1.0}</td>\n",
       "      <td>{'sentiment': 'NEGATIVE', 'confidence': 0.989}</td>\n",
       "    </tr>\n",
       "    <tr>\n",
       "      <th>text_analyze</th>\n",
       "      <td>RT @xdNiBoR: That is absolutely insane 🤯 https...</td>\n",
       "      <td>RT @Rothmus: Butchers and mutilators. https://...</td>\n",
       "      <td>@Rothmus 💯</td>\n",
       "      <td>@RonPaul ❤️</td>\n",
       "      <td>RT @JessePeltan: This is beautiful.\\n\\nThis is...</td>\n",
       "      <td>RT @iam_smx: The truth sets a man free, and El...</td>\n",
       "      <td>You are the media now https://t.co/YadpsV6a7K</td>\n",
       "      <td>RT @BasedMikeLee: Federal spending has become ...</td>\n",
       "      <td>RT @teslaownersSV: BREAKING: 𝕏 is now the #1 n...</td>\n",
       "      <td>RT @teslaownersSV: Tesla is far ahead in self-...</td>\n",
       "      <td>RT @RuiHuang_art: Type IV: 10⁴⁶W🧿 https://t.co...</td>\n",
       "      <td>RT @RandPaul: I want to see the tax cuts made ...</td>\n",
       "      <td>@RandPaul Thank you</td>\n",
       "      <td>In November next year, we fire all politicians...</td>\n",
       "      <td>Get the Performance terminal from @Starlink! h...</td>\n",
       "      <td>🇺🇸 https://t.co/w6E9pLrv45</td>\n",
       "      <td>Simple math https://t.co/ZQn6mXTI86</td>\n",
       "      <td>RT @BasedMikeLee: Government-funded DNC propag...</td>\n",
       "      <td>Congress is making America bankrupt https://t....</td>\n",
       "      <td>It will massively increase the already giganti...</td>\n",
       "    </tr>\n",
       "  </tbody>\n",
       "</table>\n",
       "</div>"
      ],
      "text/plain": [
       "                                                                     1  \\\n",
       "abusive-words_found                                                 []   \n",
       "sentiment               {'sentiment': 'NEGATIVE', 'confidence': 0.985}   \n",
       "text_analyze         RT @xdNiBoR: That is absolutely insane 🤯 https...   \n",
       "\n",
       "                                                                     2  \\\n",
       "abusive-words_found                                                 []   \n",
       "sentiment               {'sentiment': 'NEGATIVE', 'confidence': 0.998}   \n",
       "text_analyze         RT @Rothmus: Butchers and mutilators. https://...   \n",
       "\n",
       "                                                                  3  \\\n",
       "abusive-words_found                                              []   \n",
       "sentiment            {'sentiment': 'NEGATIVE', 'confidence': 0.978}   \n",
       "text_analyze                                             @Rothmus 💯   \n",
       "\n",
       "                                                                  4  \\\n",
       "abusive-words_found                                              []   \n",
       "sentiment            {'sentiment': 'NEGATIVE', 'confidence': 0.772}   \n",
       "text_analyze                                            @RonPaul ❤️   \n",
       "\n",
       "                                                                     5  \\\n",
       "abusive-words_found                                                 []   \n",
       "sentiment                 {'sentiment': 'POSITIVE', 'confidence': 1.0}   \n",
       "text_analyze         RT @JessePeltan: This is beautiful.\\n\\nThis is...   \n",
       "\n",
       "                                                                     6  \\\n",
       "abusive-words_found                                                 []   \n",
       "sentiment                 {'sentiment': 'POSITIVE', 'confidence': 1.0}   \n",
       "text_analyze         RT @iam_smx: The truth sets a man free, and El...   \n",
       "\n",
       "                                                                  7  \\\n",
       "abusive-words_found                                              []   \n",
       "sentiment            {'sentiment': 'NEGATIVE', 'confidence': 0.971}   \n",
       "text_analyze          You are the media now https://t.co/YadpsV6a7K   \n",
       "\n",
       "                                                                     8  \\\n",
       "abusive-words_found                                                 []   \n",
       "sentiment               {'sentiment': 'NEGATIVE', 'confidence': 0.999}   \n",
       "text_analyze         RT @BasedMikeLee: Federal spending has become ...   \n",
       "\n",
       "                                                                     9  \\\n",
       "abusive-words_found                                                 []   \n",
       "sentiment               {'sentiment': 'POSITIVE', 'confidence': 0.802}   \n",
       "text_analyze         RT @teslaownersSV: BREAKING: 𝕏 is now the #1 n...   \n",
       "\n",
       "                                                                    10  \\\n",
       "abusive-words_found                                                 []   \n",
       "sentiment               {'sentiment': 'POSITIVE', 'confidence': 0.995}   \n",
       "text_analyze         RT @teslaownersSV: Tesla is far ahead in self-...   \n",
       "\n",
       "                                                                    11  \\\n",
       "abusive-words_found                                                 []   \n",
       "sentiment               {'sentiment': 'NEGATIVE', 'confidence': 0.993}   \n",
       "text_analyze         RT @RuiHuang_art: Type IV: 10⁴⁶W🧿 https://t.co...   \n",
       "\n",
       "                                                                    12  \\\n",
       "abusive-words_found                                                 []   \n",
       "sentiment               {'sentiment': 'NEGATIVE', 'confidence': 0.991}   \n",
       "text_analyze         RT @RandPaul: I want to see the tax cuts made ...   \n",
       "\n",
       "                                                               13  \\\n",
       "abusive-words_found                                            []   \n",
       "sentiment            {'sentiment': 'POSITIVE', 'confidence': 1.0}   \n",
       "text_analyze                                  @RandPaul Thank you   \n",
       "\n",
       "                                                                    14  \\\n",
       "abusive-words_found                                                 []   \n",
       "sentiment               {'sentiment': 'NEGATIVE', 'confidence': 0.995}   \n",
       "text_analyze         In November next year, we fire all politicians...   \n",
       "\n",
       "                                                                    15  \\\n",
       "abusive-words_found                                                 []   \n",
       "sentiment               {'sentiment': 'NEGATIVE', 'confidence': 0.997}   \n",
       "text_analyze         Get the Performance terminal from @Starlink! h...   \n",
       "\n",
       "                                                                 16  \\\n",
       "abusive-words_found                                              []   \n",
       "sentiment            {'sentiment': 'NEGATIVE', 'confidence': 0.992}   \n",
       "text_analyze                             🇺🇸 https://t.co/w6E9pLrv45   \n",
       "\n",
       "                                                                 17  \\\n",
       "abusive-words_found                                              []   \n",
       "sentiment            {'sentiment': 'NEGATIVE', 'confidence': 0.976}   \n",
       "text_analyze                    Simple math https://t.co/ZQn6mXTI86   \n",
       "\n",
       "                                                                    18  \\\n",
       "abusive-words_found                                                 []   \n",
       "sentiment               {'sentiment': 'NEGATIVE', 'confidence': 0.997}   \n",
       "text_analyze         RT @BasedMikeLee: Government-funded DNC propag...   \n",
       "\n",
       "                                                                    19  \\\n",
       "abusive-words_found                                                 []   \n",
       "sentiment                 {'sentiment': 'NEGATIVE', 'confidence': 1.0}   \n",
       "text_analyze         Congress is making America bankrupt https://t....   \n",
       "\n",
       "                                                                    20  \n",
       "abusive-words_found                                                 []  \n",
       "sentiment               {'sentiment': 'NEGATIVE', 'confidence': 0.989}  \n",
       "text_analyze         It will massively increase the already giganti...  "
      ]
     },
     "execution_count": 5,
     "metadata": {},
     "output_type": "execute_result"
    }
   ],
   "source": [
    "df.head()"
   ]
  },
  {
   "cell_type": "code",
   "execution_count": 7,
   "id": "d8805951",
   "metadata": {},
   "outputs": [],
   "source": [
    "df_t = df.T.reset_index(drop=True)  # Transposing the DataFrame so each column becomes a row\n",
    "\n",
    "# If you want to extract confidence, you need to do it before flattening the sentiment column\n",
    "#  extract confidence from the original df before transposing\n",
    "df_temp = df.copy()\n",
    "df_temp.loc['confidence'] = df_temp.loc['sentiment'].apply(lambda x: x['confidence'])\n",
    "df_temp.loc['sentiment'] = df_temp.loc['sentiment'].apply(lambda x: x['sentiment'])\n",
    "\n",
    "df_t = df_temp.T.reset_index(drop=True)\n",
    "\n",
    "# Extracting if abusive words are present\n",
    "df_t['abuse_words'] = df_t['abusive-words_found'].apply(lambda x: len(x) > 0)  #checks the length of the list \n",
    "\n"
   ]
  },
  {
   "cell_type": "code",
   "execution_count": 8,
   "id": "63f6e854",
   "metadata": {},
   "outputs": [
    {
     "data": {
      "text/html": [
       "<div>\n",
       "<style scoped>\n",
       "    .dataframe tbody tr th:only-of-type {\n",
       "        vertical-align: middle;\n",
       "    }\n",
       "\n",
       "    .dataframe tbody tr th {\n",
       "        vertical-align: top;\n",
       "    }\n",
       "\n",
       "    .dataframe thead th {\n",
       "        text-align: right;\n",
       "    }\n",
       "</style>\n",
       "<table border=\"1\" class=\"dataframe\">\n",
       "  <thead>\n",
       "    <tr style=\"text-align: right;\">\n",
       "      <th></th>\n",
       "      <th>abusive-words_found</th>\n",
       "      <th>sentiment</th>\n",
       "      <th>text_analyze</th>\n",
       "      <th>confidence</th>\n",
       "      <th>abuse_words</th>\n",
       "    </tr>\n",
       "  </thead>\n",
       "  <tbody>\n",
       "    <tr>\n",
       "      <th>0</th>\n",
       "      <td>[]</td>\n",
       "      <td>NEGATIVE</td>\n",
       "      <td>RT @xdNiBoR: That is absolutely insane 🤯 https...</td>\n",
       "      <td>0.985</td>\n",
       "      <td>False</td>\n",
       "    </tr>\n",
       "    <tr>\n",
       "      <th>1</th>\n",
       "      <td>[]</td>\n",
       "      <td>NEGATIVE</td>\n",
       "      <td>RT @Rothmus: Butchers and mutilators. https://...</td>\n",
       "      <td>0.998</td>\n",
       "      <td>False</td>\n",
       "    </tr>\n",
       "    <tr>\n",
       "      <th>2</th>\n",
       "      <td>[]</td>\n",
       "      <td>NEGATIVE</td>\n",
       "      <td>@Rothmus 💯</td>\n",
       "      <td>0.978</td>\n",
       "      <td>False</td>\n",
       "    </tr>\n",
       "    <tr>\n",
       "      <th>3</th>\n",
       "      <td>[]</td>\n",
       "      <td>NEGATIVE</td>\n",
       "      <td>@RonPaul ❤️</td>\n",
       "      <td>0.772</td>\n",
       "      <td>False</td>\n",
       "    </tr>\n",
       "    <tr>\n",
       "      <th>4</th>\n",
       "      <td>[]</td>\n",
       "      <td>POSITIVE</td>\n",
       "      <td>RT @JessePeltan: This is beautiful.\\n\\nThis is...</td>\n",
       "      <td>1.0</td>\n",
       "      <td>False</td>\n",
       "    </tr>\n",
       "  </tbody>\n",
       "</table>\n",
       "</div>"
      ],
      "text/plain": [
       "  abusive-words_found sentiment  \\\n",
       "0                  []  NEGATIVE   \n",
       "1                  []  NEGATIVE   \n",
       "2                  []  NEGATIVE   \n",
       "3                  []  NEGATIVE   \n",
       "4                  []  POSITIVE   \n",
       "\n",
       "                                        text_analyze confidence  abuse_words  \n",
       "0  RT @xdNiBoR: That is absolutely insane 🤯 https...      0.985        False  \n",
       "1  RT @Rothmus: Butchers and mutilators. https://...      0.998        False  \n",
       "2                                         @Rothmus 💯      0.978        False  \n",
       "3                                        @RonPaul ❤️      0.772        False  \n",
       "4  RT @JessePeltan: This is beautiful.\\n\\nThis is...        1.0        False  "
      ]
     },
     "execution_count": 8,
     "metadata": {},
     "output_type": "execute_result"
    }
   ],
   "source": [
    "df_t.head()"
   ]
  },
  {
   "cell_type": "code",
   "execution_count": 9,
   "id": "46acfd05",
   "metadata": {},
   "outputs": [
    {
     "data": {
      "text/plain": [
       "Text(0, 0.5, 'Count')"
      ]
     },
     "execution_count": 9,
     "metadata": {},
     "output_type": "execute_result"
    },
    {
     "data": {
      "image/png": "[encoded data removed]",
      "text/plain": [
       "<Figure size 1300x500 with 1 Axes>"
      ]
     },
     "metadata": {},
     "output_type": "display_data"
    }
   ],
   "source": [
    "#Plot 1: Sentiment Distribution Bar Chart\n",
    "plt.figure(figsize=(13, 5))\n",
    "plt.subplot(1, 3, 1)\n",
    "sns.countplot(x='sentiment', data=df_t, palette={\"POSITIVE\": \"green\", \"NEGATIVE\": \"red\"})\n",
    "plt.title('Sentiment Distribution')\n",
    "plt.xlabel('Sentiment')\n",
    "plt.ylabel('Count')   "
   ]
  },
  {
   "cell_type": "code",
   "execution_count": 10,
   "id": "b7e30bad",
   "metadata": {},
   "outputs": [
    {
     "data": {
      "text/plain": [
       "Text(0, 0.5, 'Confidence')"
      ]
     },
     "execution_count": 10,
     "metadata": {},
     "output_type": "execute_result"
    },
    {
     "data": {
      "image/png": "[encoded data removed]",
      "text/plain": [
       "<Figure size 640x480 with 1 Axes>"
      ]
     },
     "metadata": {},
     "output_type": "display_data"
    }
   ],
   "source": [
    "#Plot 2: Confidence Boxplot\n",
    "plt.subplot(1, 2, 2)\n",
    "sns.boxplot(x='sentiment', y='confidence', data=df_t, palette={\"POSITIVE\": \"green\", \"NEGATIVE\": \"red\"})\n",
    "plt.title('Confidence by Sentiment')\n",
    "plt.xlabel('Sentiment')\n",
    "plt.ylabel('Confidence')"
   ]
  },
  {
   "cell_type": "code",
   "execution_count": 11,
   "id": "8b0722c4",
   "metadata": {},
   "outputs": [
    {
     "data": {
      "image/png": "[encoded data removed]",
      "text/plain": [
       "<Figure size 640x480 with 1 Axes>"
      ]
     },
     "metadata": {},
     "output_type": "display_data"
    }
   ],
   "source": [
    "#plot 3: Abusive Words Presence\n",
    "plt.subplot(1, 3, 3)\n",
    "abusive_counts = df_t['abuse_words'].value_counts()\n",
    "sns.barplot(x=abusive_counts.index.map({False: \"No Abusive\", True: \"Abusive\"}),\n",
    "            y=abusive_counts.values, palette=\"coolwarm\")\n",
    "plt.title(\"Abusive Word Detection\")\n",
    "plt.ylabel(\"Count\")\n",
    "\n",
    "plt.tight_layout()\n",
    "plt.suptitle(\" Abuse Detection\" , fontsize=16, y=1.05)\n",
    "plt.show()"
   ]
  }
 ],
 "metadata": {
  "kernelspec": {
   "display_name": "base",
   "language": "python",
   "name": "python3"
  },
  "language_info": {
   "codemirror_mode": {
    "name": "ipython",
    "version": 3
   },
   "file_extension": ".py",
   "mimetype": "text/x-python",
   "name": "python",
   "nbconvert_exporter": "python",
   "pygments_lexer": "ipython3",
   "version": "3.11.5"
  }
 },
 "nbformat": 4,
 "nbformat_minor": 5
}
