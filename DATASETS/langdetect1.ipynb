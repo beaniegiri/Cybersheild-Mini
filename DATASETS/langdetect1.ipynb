{
 "cells": [
  {
   "cell_type": "code",
   "execution_count": 3,
   "id": "fa0ddbd4",
   "metadata": {},
   "outputs": [
    {
     "name": "stdout",
     "output_type": "stream",
     "text": [
      "Requirement already satisfied: langdetect in c:\\users\\binisa\\onedrive\\documents\\cybersheild\\cybersheild-mini\\.venv\\lib\\site-packages (1.0.9)\n",
      "Requirement already satisfied: six in c:\\users\\binisa\\onedrive\\documents\\cybersheild\\cybersheild-mini\\.venv\\lib\\site-packages (from langdetect) (1.17.0)\n",
      "Note: you may need to restart the kernel to use updated packages.\n"
     ]
    },
    {
     "name": "stderr",
     "output_type": "stream",
     "text": [
      "\n",
      "[notice] A new release of pip is available: 25.0.1 -> 25.1.1\n",
      "[notice] To update, run: python.exe -m pip install --upgrade pip\n"
     ]
    }
   ],
   "source": [
    "%pip install langdetect\n",
    "import json\n",
    "from langdetect import detect"
   ]
  },
  {
   "cell_type": "code",
   "execution_count": 9,
   "id": "c2304c79",
   "metadata": {},
   "outputs": [],
   "source": [
    "with open('updated_data.json', 'r')as f:\n",
    "       data = json.load(f)\n",
    "#print(data)\n"
   ]
  },
  {
   "cell_type": "code",
   "execution_count": 7,
   "id": "b2510867",
   "metadata": {},
   "outputs": [],
   "source": [
    "for cleaned_data in data.values():\n",
    "    if cleaned_data['text'].strip():  # Checking the text is not empty or whitespace\n",
    "        language = detect(cleaned_data['text'])\n",
    "        cleaned_data['language'] = language\n",
    "    else:\n",
    "         cleaned_data['language']=\"No features in text\""
   ]
  },
  {
   "cell_type": "code",
   "execution_count": null,
   "id": "1da2e19b",
   "metadata": {},
   "outputs": [],
   "source": []
  },
  {
   "cell_type": "code",
   "execution_count": 8,
   "id": "fc246951",
   "metadata": {},
   "outputs": [],
   "source": [
    "with open('cleaned_data.json', 'w', encoding='utf-8') as f:\n",
    "    json.dump(data, f, ensure_ascii=False, indent=4)\n"
   ]
  }
 ],
 "metadata": {
  "kernelspec": {
   "display_name": ".venv",
   "language": "python",
   "name": "python3"
  },
  "language_info": {
   "codemirror_mode": {
    "name": "ipython",
    "version": 3
   },
   "file_extension": ".py",
   "mimetype": "text/x-python",
   "name": "python",
   "nbconvert_exporter": "python",
   "pygments_lexer": "ipython3",
   "version": "3.12.10"
  }
 },
 "nbformat": 4,
 "nbformat_minor": 5
}
